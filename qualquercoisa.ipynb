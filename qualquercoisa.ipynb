{
 "cells": [
  {
   "cell_type": "markdown",
   "id": "11943db3",
   "metadata": {},
   "source": [
    "# Meu querido notebook"
   ]
  },
  {
   "cell_type": "markdown",
   "id": "a0cadf39",
   "metadata": {},
   "source": [
    "Estou fazendo um notebook, mas meu professor disse pra não usar :)"
   ]
  },
  {
   "cell_type": "markdown",
   "id": "b6da6125",
   "metadata": {},
   "source": [
    "## Meu primeiro código python"
   ]
  },
  {
   "cell_type": "code",
   "execution_count": 2,
   "id": "8602f5c8",
   "metadata": {},
   "outputs": [
    {
     "name": "stdout",
     "output_type": "stream",
     "text": [
      "Hello World!\n"
     ]
    }
   ],
   "source": [
    "print('Hello World!')"
   ]
  }
 ],
 "metadata": {
  "kernelspec": {
   "display_name": "Python 3",
   "language": "python",
   "name": "python3"
  },
  "language_info": {
   "codemirror_mode": {
    "name": "ipython",
    "version": 3
   },
   "file_extension": ".py",
   "mimetype": "text/x-python",
   "name": "python",
   "nbconvert_exporter": "python",
   "pygments_lexer": "ipython3",
   "version": "3.12.1"
  }
 },
 "nbformat": 4,
 "nbformat_minor": 5
}
